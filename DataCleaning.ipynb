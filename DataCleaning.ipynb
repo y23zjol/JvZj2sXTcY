{
 "cells": [
  {
   "cell_type": "code",
   "execution_count": null,
   "metadata": {},
   "outputs": [],
   "source": [
    "import pandas as pd\n",
    "import numpy as np"
   ]
  },
  {
   "cell_type": "code",
   "execution_count": null,
   "metadata": {},
   "outputs": [],
   "source": [
    "# Pre and Post Session Surveys from AY18-19 (year1) and AY19-20 (year2)\n",
    "\n",
    "year1_pre = pd.read_excel(\"Pre and post tests AY18–19/TaraProject_AY18–19Student Pre-Session Survey_ Academic Coaching  (Responses).xlsx\")\n",
    "year1_post = pd.read_excel(\"Pre and post tests AY18–19/TaraProject_AY18–19Student Post-Session Survey_ Academic Coaching  (Responses).xlsx\")\n",
    "year2_pre = pd.read_excel(\"Pre and post tests AY19–20/TaraProject_AY19–20Academic Coaching_ Pre-Session Student Survey  (Responses).xlsx\")\n",
    "year2_post = pd.read_excel(\"Pre and post tests AY19–20/TaraProject_AY19–20Academic Coaching_ Post-Session Student Survey  (Responses).xlsx\")\n",
    "pre_post = {\"Pre1\": year1_pre, \"Post1\": year1_post, \"Pre2\": year2_pre, \"Post2\": year2_post}\n",
    "\n",
    "# Initial Consultations\n",
    "initial_raw = pd.read_excel(\"TaraProject_AY19–20Initial Consultation (Intake) Form - AY 19-20 (Responses).xlsx\")\n",
    "\n",
    "# AC Roster Information\n",
    "ac_roster = pd.read_excel(\"TaraProject_AY19–20AC Roster AY 19-20.xlsx\", sheet_name = None)"
   ]
  },
  {
   "cell_type": "code",
   "execution_count": null,
   "metadata": {},
   "outputs": [],
   "source": [
    "# Combine AC Rosters from both years\n",
    "\n",
    "ac_roster1 = ac_roster['18-19 Photo Roster'].drop(columns=['Unnamed: 0', 'PHONE'])\n",
    "ac_roster2 = ac_roster['19-20 roster'].drop(columns=['Unnamed: 14', 'AY 19-20 Wage', 'Phone Number',\n",
    "                                                    'Expected Grad'])\n",
    "ac_roster1 = ac_roster1.rename(columns = {'LAST NAME' : 'Last Name', 'PREFERRED NAME': 'Pref Name', 'First name': \n",
    "                                          'First Name','Class Level':'Class Rank'})\n",
    "\n",
    "college = []\n",
    "for i in range(len(ac_roster1['Major'])):\n",
    "    L = ac_roster1['Major'][i].split('-')\n",
    "    if(len(L) == 2):\n",
    "        college += [L[0].strip().upper()]\n",
    "        ac_roster1['Major'][i] = L[1].strip()\n",
    "    else:\n",
    "        college += ['NA']\n",
    "ac_roster1['College'] = college\n",
    "ac_roster1['Year'] = '18-19'\n",
    "ac_roster2['Year'] = '19-20'\n",
    "ac_roster_full = pd.merge(ac_roster1, ac_roster2, how='outer', on=['AndrewID', 'Last Name', 'First Name', 'Pref Name',\n",
    "                                                 'Year', 'Major', 'College', 'Class Rank'], copy=False)\n",
    "name = []\n",
    "for i in range(len(ac_roster_full)):\n",
    "    name += [ac_roster_full['First Name'][i] + ' ' + ac_roster_full['Last Name'][i]]\n",
    "ac_roster_full['Full Name'] = name\n",
    "ac_roster_full = ac_roster_full.drop(columns=['Last Name'])\n",
    "ac_roster_full = ac_roster_full.append({'First Name': 'Michael', 'AndrewID':'mpoljak', 'Full Name': 'Michael Poljak',\n",
    "                                       'Pref Name': 'Mike'},\n",
    "                                      ignore_index=True)\n",
    "ac_roster_full = ac_roster_full.append({'First Name': 'TC', 'AndrewID':'tce', 'Full Name': 'TC Eley'},\n",
    "                                      ignore_index=True)"
   ]
  },
  {
   "cell_type": "code",
   "execution_count": null,
   "metadata": {},
   "outputs": [],
   "source": [
    "# Change column names and drop columns that are irrelevant to data analysis\n",
    "\n",
    "questions1, questions2 = [], []\n",
    "for col in range(6,59):\n",
    "    questions1 += [pre_post['Pre1'].columns[col]]\n",
    "    pre_post['Pre1'] = pre_post['Pre1'].rename(columns={pre_post['Pre1'].columns[col] : col-5})\n",
    "    pre_post['Post1'] = pre_post['Post1'].rename(columns={pre_post['Post1'].columns[col+1] : col-5})\n",
    "for col in range(7,55):\n",
    "    questions2 += [pre_post['Pre2'].columns[col]]\n",
    "    pre_post['Pre2'] = pre_post['Pre2'].rename(columns={pre_post['Pre2'].columns[col] : col-6})\n",
    "    pre_post['Post2'] = pre_post['Post2'].rename(columns={pre_post['Post2'].columns[col+1] : col-6})\n",
    "\n",
    "# Pre 1:\n",
    "pre_post['Pre1'] = pre_post['Pre1'].drop(columns = pre_post['Pre1'].columns[1:4])\n",
    "pre_post['Pre1'] = pre_post['Pre1'].drop(columns = pre_post['Pre1'].columns[-5:])\n",
    "pre_post['Pre1'] = pre_post['Pre1'].rename(columns={pre_post['Pre1'].columns[1] : 'AndrewID', \n",
    "                                              pre_post['Pre1'].columns[2] : 'Goals'})\n",
    "\n",
    "# Pre 2:\n",
    "pre_post['Pre2'] = pre_post['Pre2'].drop(columns = pre_post['Pre2'].columns[1:5])\n",
    "pre_post['Pre2'] = pre_post['Pre2'].rename(columns={pre_post['Pre2'].columns[1] : 'AndrewID', \n",
    "                                              pre_post['Pre2'].columns[2] : 'Goals'})\n",
    "\n",
    "# Post 1:\n",
    "pre_post['Post1'] = pre_post['Post1'].drop(columns = pre_post['Post1'].columns[-12:])\n",
    "pre_post['Post1'] = pre_post['Post1'].drop(columns = pre_post['Post1'].columns[1:5])\n",
    "pre_post['Post1'] = pre_post['Post1'].rename(columns={pre_post['Post1'].columns[1] : 'AndrewID', \n",
    "                                              pre_post['Pre2'].columns[2] : 'Goals'})\n",
    "\n",
    "# Post 2:\n",
    "pre_post['Post2'] = pre_post['Post2'].drop(columns = pre_post['Post2'].columns[1:6])\n",
    "pre_post['Post2'] = pre_post['Post2'].rename(columns={pre_post['Post2'].columns[1] : 'AndrewID'})\n"
   ]
  },
  {
   "cell_type": "code",
   "execution_count": null,
   "metadata": {},
   "outputs": [],
   "source": [
    "pre_post['Post1'].iloc[43,1] = 'sallya'\n",
    "pre_post['Post1'] = pre_post['Post1'].drop(index=32)"
   ]
  },
  {
   "cell_type": "code",
   "execution_count": null,
   "metadata": {},
   "outputs": [],
   "source": [
    "# Identify students who have both pre-test and post-test data\n",
    "students1 = pd.merge(pre_post['Pre1'], pre_post['Post1'], how='inner', on='AndrewID')['AndrewID'].drop_duplicates()\n",
    "students2 = pd.merge(pre_post['Pre2'], pre_post['Post2'], how='inner', on='AndrewID')['AndrewID'].drop_duplicates()\n",
    "students_complete = pd.merge(students1, students2, how='outer')"
   ]
  },
  {
   "cell_type": "code",
   "execution_count": null,
   "metadata": {},
   "outputs": [],
   "source": [
    "print(len(pre_post['Pre1']), len(pre_post['Post1']), len(pre_post['Pre2']), len(pre_post['Post2']))\n",
    "print(len(students1), len(students2), len(students_complete))"
   ]
  },
  {
   "cell_type": "code",
   "execution_count": null,
   "metadata": {
    "scrolled": true
   },
   "outputs": [],
   "source": [
    "# Drop students who do not have both pre-test and post-test data available\n",
    "pre_post['Pre1'] = pd.merge(pre_post['Pre1'], students_complete, on='AndrewID')\n",
    "pre_post['Post1'] = pd.merge(pre_post['Post1'], students_complete, on='AndrewID')\n",
    "pre_post['Pre2'] = pd.merge(pre_post['Pre2'], students_complete, on='AndrewID')\n",
    "pre_post['Post2'] = pd.merge(pre_post['Post2'], students_complete, on='AndrewID')\n",
    "print(len(pre_post['Pre1']), len(pre_post['Post1']), len(pre_post['Pre2']), len(pre_post['Post2']))"
   ]
  },
  {
   "cell_type": "code",
   "execution_count": null,
   "metadata": {},
   "outputs": [],
   "source": [
    "# Split dataset into subjective measures of student, subjective measures of AC/feedback, goals, and demographics\n",
    "\n",
    "demographics = pd.concat([pre_post['Pre1'].iloc[:,[0,1,56,57,58,59,60]],\n",
    "                pre_post['Pre2'].iloc[:,[0,1,53,54,55,56,57,58,59]]])\n",
    "goals_pre = pd.concat([pre_post['Pre1'].iloc[:,0:3], pre_post['Pre2'].iloc[:,0:3]])\n",
    "goals_post = pd.concat([pre_post['Post1'].iloc[:,0:3], pre_post['Post2'].iloc[:,0:3]])\n",
    "\n",
    "subjective_measures_of_self = {'Pre': pd.concat([pd.concat([pre_post['Pre1'].iloc[:,[0,1]], pre_post['Pre1'].iloc[:,3:56]], axis=1),\n",
    "                                               pd.concat([pre_post['Pre2'].iloc[:,[0,1]], pre_post['Pre2'].iloc[:,3:51]], axis=1)]),\n",
    "                               'Post': pd.concat([pd.concat([pre_post['Post1'].iloc[:,[0,1]], pre_post['Post1'].iloc[:,3:56]], axis=1),\n",
    "                                                pd.concat([pre_post['Post2'].iloc[:,[0,1]], pre_post['Post2'].iloc[:,4:51]], axis=1)])}\n",
    "\n",
    "subjective_measures_of_AC = pd.concat([pd.concat([pre_post['Post1'].iloc[:,[0,1]], pre_post['Post1'].iloc[:,56:82]], axis=1),\n",
    "                             pd.concat([pre_post['Post2'].iloc[:,[0,1]], pre_post['Post2'].iloc[:,53:]], axis=1)])"
   ]
  },
  {
   "cell_type": "code",
   "execution_count": null,
   "metadata": {},
   "outputs": [],
   "source": [
    "initial = initial_raw.drop(columns=['Upload images of the session, if you have any', 'Other AD Services',\n",
    "                               'External Resources', 'Unnamed: 18', 'Referrals [Academics]',\n",
    "                               'STAFF Mentor', 'FACULTY Mentor','Referrals [Wellness]','Referrals [Health]', \n",
    "                                'Referrals'])\n",
    "initial = initial.rename(columns={'Year in School:' : 'Year', 'Student Andrew ID' : 'AndrewID'})\n",
    "initial = pd.merge(initial, students_complete, on='AndrewID')\n",
    "len(initial)"
   ]
  },
  {
   "cell_type": "code",
   "execution_count": null,
   "metadata": {
    "scrolled": true
   },
   "outputs": [],
   "source": [
    "L1 = list(subjective_measures_of_AC.iloc[:,2])\n",
    "for i in range(len(L1)):\n",
    "    name = L1[i]\n",
    "    if not (name.strip() in list(ac_roster_full['Full Name']) or name.strip() in list(ac_roster_full['First Name'])\n",
    "           or name.strip() in list(ac_roster_full['Pref Name'])):\n",
    "        print(i,name)\n",
    "\n",
    "for i in range(len(L1)):\n",
    "    name = L1[i].strip()\n",
    "    for index,row in ac_roster_full.iterrows():\n",
    "        if(name == row['Full Name'] or name == row['First Name'] or name == row['Pref Name']):\n",
    "            L1[i] = row['AndrewID']\n",
    "            \n",
    "subjective_measures_of_AC['AC'] = L1"
   ]
  },
  {
   "cell_type": "markdown",
   "metadata": {},
   "source": [
    "Current Dataframes:\n",
    "- ac_roster_full (all AC info)\n",
    "- pre_post dictionary for pre and post tests in 2018 and 2019 (4 dataframes) - raw\n",
    "- students_complete (all students that have both pre and post test info)\n",
    "- subjective_measures_of_self (subjective measures of student)\n",
    "- subjective_measures_of_AC (subjective measures of AC/feedback)\n",
    "- goals\n",
    "- demographics\n",
    "- initial (initial consultation info)"
   ]
  },
  {
   "cell_type": "code",
   "execution_count": null,
   "metadata": {},
   "outputs": [],
   "source": [
    "ac_roster_full.to_csv(\"Dataframes/ac_roster.csv\")\n",
    "\n",
    "pre_post['Pre1'].to_csv(\"Dataframes/RAW/pre18.csv\")\n",
    "pre_post['Post1'].to_csv(\"Dataframes/RAW/post18.csv\")\n",
    "pre_post['Pre2'].to_csv(\"Dataframes/RAW/pre19.csv\")\n",
    "pre_post['Post2'].to_csv(\"Dataframes/RAW/post19.csv\")\n",
    "\n",
    "subjective_measures_of_self['Pre'].to_csv(\"Dataframes/subjective_measures_of_self_pre.csv\")\n",
    "subjective_measures_of_self['Post'].to_csv(\"Dataframes/subjective_measures_of_self_post.csv\")\n",
    "\n",
    "subjective_measures_of_AC.to_csv(\"Dataframes/subjective_measures_of_AC.csv\")\n",
    "goals_pre.to_csv(\"Dataframes/goals_pre.csv\")\n",
    "goals_post.to_csv(\"Dataframes/goals_post.csv\")\n",
    "demographics.to_csv(\"Dataframes/demographics.csv\")\n",
    "\n",
    "initial.to_csv(\"Dataframes/initial.csv\")"
   ]
  },
  {
   "cell_type": "code",
   "execution_count": null,
   "metadata": {},
   "outputs": [],
   "source": []
  }
 ],
 "metadata": {
  "kernelspec": {
   "display_name": "Python 3",
   "language": "python",
   "name": "python3"
  },
  "language_info": {
   "codemirror_mode": {
    "name": "ipython",
    "version": 3
   },
   "file_extension": ".py",
   "mimetype": "text/x-python",
   "name": "python",
   "nbconvert_exporter": "python",
   "pygments_lexer": "ipython3",
   "version": "3.7.6-final"
  }
 },
 "nbformat": 4,
 "nbformat_minor": 4
}